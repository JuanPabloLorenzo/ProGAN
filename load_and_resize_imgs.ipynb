{
 "cells": [
  {
   "cell_type": "code",
   "execution_count": 40,
   "metadata": {},
   "outputs": [],
   "source": [
    "import numpy as np\n",
    "import matplotlib.pyplot as plt\n",
    "from skimage.transform import resize"
   ]
  },
  {
   "cell_type": "code",
   "execution_count": 8,
   "metadata": {},
   "outputs": [
    {
     "name": "stdout",
     "output_type": "stream",
     "text": [
      "['11000.png', '11001.png', '11002.png', '11003.png', '11004.png', '11005.png', '11006.png', '11007.png', '11008.png', '11009.png']\n"
     ]
    }
   ],
   "source": [
    "path = \"/Volumes/T7 Shield/FFHQ\"\n",
    "\n",
    "# See the file names\n",
    "import os\n",
    "files = os.listdir(path)\n",
    "print(files[8000:9010])"
   ]
  },
  {
   "cell_type": "code",
   "execution_count": 9,
   "metadata": {},
   "outputs": [],
   "source": [
    "import matplotlib.pyplot as plt\n",
    "from skimage.transform import resize\n",
    "import os\n",
    "from concurrent.futures import ThreadPoolExecutor\n",
    "\n",
    "# Function to load, resize, and save an image\n",
    "def process_image(file_name, input_path, output_dir):\n",
    "    image_path = f\"{input_path}/{file_name}\"\n",
    "    \n",
    "    image = plt.imread(image_path)\n",
    "    resized_image = resize(image, (32, 32), anti_aliasing=True)\n",
    "    \n",
    "    # Save the resized image\n",
    "    plt.imsave(f\"{output_dir}/{file_name}\", resized_image)\n",
    "\n",
    "# Define the path and parameters\n",
    "path = \"/Volumes/T7 Shield/FFHQ\"\n",
    "file_names = os.listdir(path)\n",
    "total_images = 50000\n",
    "output_dir = \"face_images_32x32\"\n",
    "\n",
    "# Ensure the output directory exists\n",
    "if not os.path.exists(output_dir):\n",
    "    os.makedirs(output_dir)\n",
    "\n",
    "# Process images in parallel\n",
    "with ThreadPoolExecutor() as executor:\n",
    "    # Submit tasks to the executor\n",
    "    futures = [executor.submit(process_image, file_names[i], path, output_dir) for i in range(total_images)]\n",
    "    \n",
    "    # Optionally, wait for all futures to complete and handle exceptions\n",
    "    for future in futures:\n",
    "        try:\n",
    "            future.result()  # This will raise an exception if the task raised an exception\n",
    "        except Exception as e:\n",
    "            print(f\"An error occurred: {e}\")\n"
   ]
  }
 ],
 "metadata": {
  "kernelspec": {
   "display_name": "base",
   "language": "python",
   "name": "python3"
  },
  "language_info": {
   "codemirror_mode": {
    "name": "ipython",
    "version": 3
   },
   "file_extension": ".py",
   "mimetype": "text/x-python",
   "name": "python",
   "nbconvert_exporter": "python",
   "pygments_lexer": "ipython3",
   "version": "3.11.4"
  }
 },
 "nbformat": 4,
 "nbformat_minor": 2
}
